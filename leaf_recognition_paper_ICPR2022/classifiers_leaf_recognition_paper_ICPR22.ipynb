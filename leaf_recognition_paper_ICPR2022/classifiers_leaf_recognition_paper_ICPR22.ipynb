{
  "nbformat": 4,
  "nbformat_minor": 0,
  "metadata": {
    "colab": {
      "name": "classifiers_leaf_recognition_paper_ICPR22",
      "provenance": [],
      "collapsed_sections": [],
      "include_colab_link": true
    },
    "kernelspec": {
      "name": "python3",
      "display_name": "Python 3"
    },
    "language_info": {
      "name": "python"
    }
  },
  "cells": [
    {
      "cell_type": "markdown",
      "metadata": {
        "id": "view-in-github",
        "colab_type": "text"
      },
      "source": [
        "<a href=\"https://colab.research.google.com/github/mechhector/leaf_recognition_paper_ICPR2022/blob/main/leaf_recognition_paper_ICPR2022/classifiers_leaf_recognition_paper_ICPR22.ipynb\" target=\"_parent\"><img src=\"https://colab.research.google.com/assets/colab-badge.svg\" alt=\"Open In Colab\"/></a>"
      ]
    },
    {
      "cell_type": "code",
      "source": [
        "from google.colab import drive\n",
        "drive.mount('/content/drive')"
      ],
      "metadata": {
        "colab": {
          "base_uri": "https://localhost:8080/"
        },
        "id": "-or4XoXiNBM9",
        "outputId": "89dd15bf-aa04-45e4-dfb0-2b3cbfd574df"
      },
      "execution_count": null,
      "outputs": [
        {
          "output_type": "stream",
          "name": "stdout",
          "text": [
            "Mounted at /content/drive\n"
          ]
        }
      ]
    },
    {
      "cell_type": "code",
      "source": [
        "import cv2 \n",
        "import numpy as np\n",
        "import matplotlib.pyplot as plt\n",
        "import seaborn as sn\n",
        "import time\n",
        "import os\n",
        "\n",
        "from scipy import stats\n",
        "from scipy import ndimage\n",
        "\n",
        "from skimage.feature import greycomatrix, greycoprops, local_binary_pattern\n",
        "from sklearn.neighbors import KNeighborsClassifier\n",
        "from sklearn import datasets, svm, metrics\n",
        "from sklearn.model_selection import train_test_split, KFold, RepeatedKFold, cross_val_score, StratifiedShuffleSplit\n",
        "from sklearn.feature_extraction import image\n",
        "from sklearn.preprocessing import StandardScaler\n",
        "from sklearn.linear_model import SGDClassifier\n",
        "from sklearn.pipeline import make_pipeline\n",
        "from sklearn.metrics import confusion_matrix\n",
        "from sklearn.neural_network import MLPClassifier\n",
        "from sklearn import tree\n",
        "from sklearn.naive_bayes import GaussianNB\n",
        "from sklearn.svm import SVC\n",
        "\n",
        "from google.colab.patches import cv2_imshow\n",
        "\n",
        "dataset = 'FLAVIA'"
      ],
      "metadata": {
        "id": "USZ0lKiK8LyT"
      },
      "execution_count": null,
      "outputs": []
    },
    {
      "cell_type": "code",
      "source": [
        "# Dataset shape and texture features\n",
        "\n",
        "shape_features_file = np.loadtxt('/content/drive/MyDrive/leaf_classification_paper/data/leaf_rec_paper/{}_dataset_features/{}_shape_features.txt'.format(dataset,dataset), delimiter = ',')\n",
        "\n",
        "texture_features_file = np.loadtxt('/content/drive/MyDrive/leaf_classification_paper/data/leaf_rec_paper/{}_dataset_features/{}_texture_features.txt'.format(dataset,dataset), delimiter = ',')\n",
        "\n",
        "glcm_features_file = np.loadtxt('/content/drive/MyDrive/leaf_classification_paper/data/leaf_rec_paper/{}_dataset_features/{}_glcm_features.txt'.format(dataset,dataset), delimiter = ',')\n",
        "\n",
        "shape_glcm_features_file = np.loadtxt('/content/drive/MyDrive/leaf_classification_paper/data/leaf_rec_paper/{}_dataset_features/{}_shape_glcm_features.txt'.format(dataset,dataset), delimiter =',' )\n",
        "\n",
        "shape_texture_features_file = np.loadtxt('/content/drive/MyDrive/leaf_classification_paper/data/leaf_rec_paper/{}_dataset_features/{}_shape_texture_features.txt'.format(dataset,dataset), delimiter = ',')"
      ],
      "metadata": {
        "id": "nLrwSM8sETVf"
      },
      "execution_count": null,
      "outputs": []
    },
    {
      "cell_type": "code",
      "source": [
        "shape_features_file.shape"
      ],
      "metadata": {
        "colab": {
          "base_uri": "https://localhost:8080/"
        },
        "id": "K1W0SxNVe64w",
        "outputId": "4e0bdb77-745c-4bb8-b418-fe6daf3b6809"
      },
      "execution_count": null,
      "outputs": [
        {
          "output_type": "execute_result",
          "data": {
            "text/plain": [
              "(1201, 8)"
            ]
          },
          "metadata": {},
          "execution_count": 4
        }
      ]
    },
    {
      "cell_type": "code",
      "source": [
        "shape_features = shape_features_file[:,2:]\n",
        "\n",
        "texture_features = texture_features_file\n",
        "\n",
        "glcm_features = glcm_features_file\n",
        "\n",
        "shape_glcm_features = shape_glcm_features_file[:,2:]\n",
        "\n",
        "shape_texture_features = shape_texture_features_file[:,2:]\n",
        "\n",
        "\n",
        "features_files_list = [shape_features, texture_features, glcm_features, shape_glcm_features, shape_texture_features]\n",
        "\n",
        "features_files_list_str = ['shape_features', 'texture_features', 'glcm_features', 'shape_glcm_features','shape_texture_features']\n",
        "\n",
        "for ki in features_files_list:\n",
        "  print(ki.shape)\n"
      ],
      "metadata": {
        "colab": {
          "base_uri": "https://localhost:8080/"
        },
        "id": "5t1M7g2hUd1V",
        "outputId": "81cd7722-c077-4a89-faeb-2a8a6af18f77"
      },
      "execution_count": null,
      "outputs": [
        {
          "output_type": "stream",
          "name": "stdout",
          "text": [
            "(1201, 6)\n",
            "(1201, 5)\n",
            "(1201, 5)\n",
            "(1201, 11)\n",
            "(1201, 11)\n"
          ]
        }
      ]
    },
    {
      "cell_type": "code",
      "source": [
        "targets_vector = shape_features_file[ : , 0]\n",
        "#print(targets_vector)"
      ],
      "metadata": {
        "id": "jxBPyrzwXjNv"
      },
      "execution_count": null,
      "outputs": []
    },
    {
      "cell_type": "code",
      "source": [
        "start_time = time.time()\n",
        "#main()\n",
        "\n",
        "data_list = [shape_features, shape_glcm_features, shape_texture_features]\n",
        "data_name =  ['shape_features', 'shape_glcm_features','shape_texture_features']\n",
        "\n",
        "hd = 0 \n",
        "\n",
        "#clf = KNeighborsClassifier(n_neighbors=1)\n",
        "#clf = MLPClassifier(random_state=1, max_iter=10000)\n",
        "#clf = tree.DecisionTreeClassifier()\n",
        "#clf = GaussianNB()\n",
        "clf = make_pipeline(StandardScaler(), SVC(kernel = 'linear', gamma='scale'))\n",
        "\n",
        "print(dataset, \"Number of samples:\", shape_features_file.shape[0])\n",
        "\n",
        "for p in data_list: \n",
        "\n",
        "  X = p\n",
        "  y = np.asarray(targets_vector)\n",
        "  \n",
        "\n",
        "# 10-fold cross validation\n",
        "\n",
        "  sss = StratifiedShuffleSplit(n_splits=10 , test_size=0.2)\n",
        "\n",
        "  for train_index , test_index in sss.split(X,y): \n",
        "    X_train , X_test = X[train_index] , X[test_index]\n",
        "    y_train , y_test = y[train_index] , y[test_index]\n",
        "\n",
        "\n",
        "\n",
        "  # Acc, std deviation and confusion matrix\n",
        "\n",
        "  std = []\n",
        "\n",
        "  mean_acc = 0\n",
        "\n",
        "  c_matrix = 0\n",
        "\n",
        "  for k, (train, test) in enumerate(sss.split(X, y)):\n",
        "      clf.fit(X[train], y[train])\n",
        "\n",
        "      predicted = clf.predict(X_test)\n",
        "\n",
        "      acc = metrics.accuracy_score(y_test, predicted)\n",
        "\n",
        "      std.append(acc)\n",
        "\n",
        "      mean_acc = mean_acc + acc\n",
        "\n",
        "      c_matrix = c_matrix + confusion_matrix(y_test, predicted)\n",
        "\n",
        "      #print(confusion_matrix(y_test, predicted))\n",
        "      #print(confusion_matrix(y_test, predicted).sum())\n",
        "\n",
        "      #print(\"Accuracy: \" f\"{metrics.accuracy_score(y_test, predicted)}\\n\")\n",
        "\n",
        "  mean_c_matrix = c_matrix/10\n",
        "  for i in range(mean_c_matrix.shape[0]):\n",
        "    for j in range(mean_c_matrix.shape[1]):\n",
        "      c_matrix[i][j] = round(c_matrix[i][j])    \n",
        "\n",
        "  #print('mean confusion matrix:') \n",
        "  #print(c_matrix/10) \n",
        "\n",
        "  \n",
        "  print(data_name[hd], str(clf))   \n",
        " \n",
        "  print('mean accuracy: ' , mean_acc/10) \n",
        "\n",
        "  #print('test samples: ' , c_matrix.sum()/10)\n",
        "\n",
        "  print('std deviation: ' , np.asarray(std).std())\n",
        "  print('\\n')\n",
        "  \n",
        "\n",
        "  hd = hd + 1\n",
        "\n",
        "\n",
        "\n",
        "print(\"--- %s seconds ---\" % (time.time() - start_time))\n",
        "\n",
        "'''\n",
        "# To plot the confusion matrix\n",
        "\n",
        "plt.figure(figsize=(11,7))\n",
        "sn.set(font_scale=1.8) \n",
        "sn.heatmap(c_matrix/10, annot=True, annot_kws={\"size\": 18}) # font size\n",
        "plt.suptitle(\"Matriz de Confusão\")\n",
        "plt.xlabel(\"Predito\")\n",
        "plt.ylabel(\"Real\")\n",
        "plt.gcf().set_dpi(50)\n",
        "plt.show()\n",
        "'''"
      ],
      "metadata": {
        "id": "ikfHHZ3u8vt7",
        "colab": {
          "base_uri": "https://localhost:8080/",
          "height": 400
        },
        "outputId": "8cad22bf-b6d7-4a51-85f8-1c6ddcb0f9ac"
      },
      "execution_count": null,
      "outputs": [
        {
          "output_type": "stream",
          "name": "stdout",
          "text": [
            "FLAVIA Number of samples: 1201\n",
            "shape_features Pipeline(steps=[('standardscaler', StandardScaler()),\n",
            "                ('svc', SVC(kernel='linear'))])\n",
            "mean accuracy:  0.6016597510373443\n",
            "std deviation:  0.00927829036306967\n",
            "\n",
            "\n",
            "shape_glcm_features Pipeline(steps=[('standardscaler', StandardScaler()),\n",
            "                ('svc', SVC(kernel='linear'))])\n",
            "mean accuracy:  0.6813278008298757\n",
            "std deviation:  0.008257157154411755\n",
            "\n",
            "\n",
            "shape_texture_features Pipeline(steps=[('standardscaler', StandardScaler()),\n",
            "                ('svc', SVC(kernel='linear'))])\n",
            "mean accuracy:  0.7634854771784232\n",
            "std deviation:  0.009090830829961271\n",
            "\n",
            "\n",
            "--- 1.4624829292297363 seconds ---\n"
          ]
        },
        {
          "output_type": "execute_result",
          "data": {
            "application/vnd.google.colaboratory.intrinsic+json": {
              "type": "string"
            },
            "text/plain": [
              "'\\nplt.figure(figsize=(11,7))\\nsn.set(font_scale=1.8) \\nsn.heatmap(c_matrix/10, annot=True, annot_kws={\"size\": 18}) # font size\\nplt.suptitle(\"Matriz de Confusão\")\\nplt.xlabel(\"Predito\")\\nplt.ylabel(\"Real\")\\nplt.gcf().set_dpi(50)\\nplt.show()\\n'"
            ]
          },
          "metadata": {},
          "execution_count": 13
        }
      ]
    }
  ]
}